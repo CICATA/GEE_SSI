{
 "cells": [
  {
   "cell_type": "markdown",
   "metadata": {},
   "source": [
    "Import required libraries"
   ]
  },
  {
   "cell_type": "code",
   "execution_count": 2,
   "metadata": {},
   "outputs": [
    {
     "data": {
      "text/html": [
       "<style>.container { width:90% !important; }</style>"
      ],
      "text/plain": [
       "<IPython.core.display.HTML object>"
      ]
     },
     "metadata": {},
     "output_type": "display_data"
    }
   ],
   "source": [
    "from IPython.core.display import display, HTML\n",
    "display(HTML(\"<style>.container { width:90% !important; }</style>\"))\n",
    "from datetime import datetime\n",
    "from numpy import asarray\n",
    "from numpy import save\n",
    "from numpy import load\n",
    "import ee, time\n",
    "ee.Initialize()"
   ]
  },
  {
   "cell_type": "markdown",
   "metadata": {},
   "source": [
    "Declare the geographic to be downloaded"
   ]
  },
  {
   "cell_type": "code",
   "execution_count": 190,
   "metadata": {},
   "outputs": [],
   "source": [
    "poly = ee.Geometry.Polygon(\n",
    "    [[-100.47791937504411,20.74346583603706],\n",
    "    [-100.4895917252222,20.713284159358064],\n",
    "    [-100.49508459795548,20.694658420906517],\n",
    "    [-100.50950337655922,20.688877557615758], \n",
    "    [-100.50332393344829,20.590569133640255], \n",
    "    [-100.48684533170285,20.573213991681257], \n",
    "    [-100.46418724893185,20.56164279811083], \n",
    "    [-100.47860603820642,20.533996968077325], \n",
    "    [-100.47520705713644,20.520338992188012], \n",
    "    [-100.43960678997206,20.499229802112993], \n",
    "    [-100.42561713526564,20.50461592451268], \n",
    "    [-100.40394327919928,20.482630683825533], \n",
    "    [-100.386863884725,20.481183476053257], \n",
    "    [-100.38609144982618,20.497905928329736], \n",
    "    [-100.35725388110177,20.50498026369214], \n",
    "    [-100.31966205174498,20.511893506441073], \n",
    "    [-100.27912532614545,20.530924710995205], \n",
    "    [-100.24702637427141,20.546516613350068], \n",
    "    [-100.23466742319654,20.559213994044974], \n",
    "    [-100.2342545745642,20.582246761632195], \n",
    "    [-100.18996831855864,20.58321094995086], \n",
    "    [-100.15426468975389,20.613097183954853], \n",
    "    [-100.22773183008509,20.665001209044437], \n",
    "    [-100.35716596338435,20.672067765281636], \n",
    "    [-100.3757043918599,20.680097577165935], \n",
    "    [-100.39561603676037,20.671104158200457], \n",
    "    [-100.42033393974086,20.68555760842041], \n",
    "    [-100.41861741654286,20.709001384894357], \n",
    "    [-100.41914468435314,20.74526087901061], \n",
    "    [-100.39133704734316,20.781855674344172], \n",
    "    [-100.37657497118374,20.81459086744436], \n",
    "    [-100.39545669532087,20.839939708856246], \n",
    "    [-100.45004204144581,20.83833548324541], \n",
    "    [-100.48299924265586,20.79790323713937], \n",
    "    [-100.47791937504411,20.74346583603706]])"
   ]
  },
  {
   "cell_type": "markdown",
   "metadata": {},
   "source": [
    "Load the array with desired dates"
   ]
  },
  {
   "cell_type": "code",
   "execution_count": 3,
   "metadata": {},
   "outputs": [],
   "source": [
    "dates = load('../data/datesSAR.npy')"
   ]
  },
  {
   "cell_type": "markdown",
   "metadata": {},
   "source": [
    "Export the SAR images to google Drive"
   ]
  },
  {
   "cell_type": "code",
   "execution_count": 201,
   "metadata": {
    "collapsed": true
   },
   "outputs": [
    {
     "name": "stdout",
     "output_type": "stream",
     "text": [
      "Generating data for 2019-10-06\n",
      "Generating data for 2019-10-12\n",
      "Generating data for 2019-10-18\n",
      "Generating data for 2019-10-24\n",
      "Generating data for 2019-10-30\n",
      "Generating data for 2019-11-05\n",
      "Generating data for 2019-11-11\n",
      "Generating data for 2019-11-17\n",
      "Generating data for 2019-11-23\n",
      "Generating data for 2019-11-29\n",
      "Generating data for 2019-12-05\n",
      "Generating data for 2019-12-11\n",
      "Generating data for 2019-12-17\n",
      "Generating data for 2019-12-23\n",
      "Generating data for 2019-12-29\n",
      "Generating data for 2020-01-04\n",
      "Generating data for 2020-01-10\n",
      "Generating data for 2020-01-16\n",
      "Generating data for 2020-01-22\n",
      "Generating data for 2020-01-28\n",
      "Generating data for 2020-02-03\n",
      "Generating data for 2020-02-09\n",
      "Generating data for 2020-02-15\n",
      "Generating data for 2020-02-21\n",
      "Generating data for 2020-02-27\n",
      "Generating data for 2020-03-04\n",
      "Generating data for 2020-03-10\n",
      "Generating data for 2020-03-16\n",
      "Generating data for 2020-03-22\n",
      "Generating data for 2020-03-28\n",
      "Generating data for 2020-04-03\n",
      "Generating data for 2020-04-09\n",
      "Generating data for 2020-04-15\n",
      "Generating data for 2020-04-21\n",
      "Generating data for 2020-04-27\n",
      "Generating data for 2020-05-03\n",
      "Generating data for 2020-05-09\n",
      "Generating data for 2020-05-15\n",
      "Generating data for 2020-05-21\n",
      "Generating data for 2020-05-27\n",
      "Generating data for 2020-06-02\n",
      "Generating data for 2020-06-08\n",
      "Generating data for 2020-06-14\n",
      "Generating data for 2020-06-20\n",
      "Generating data for 2020-06-26\n",
      "Generating data for 2020-07-02\n",
      "Generating data for 2020-07-08\n",
      "Generating data for 2020-07-14\n",
      "Generating data for 2020-07-20\n",
      "Generating data for 2020-07-26\n",
      "Generating data for 2020-08-01\n",
      "Generating data for 2020-08-07\n",
      "Generating data for 2020-08-13\n",
      "Generating data for 2020-08-19\n",
      "Generating data for 2020-08-25\n",
      "Generating data for 2020-08-31\n",
      "Generating data for 2020-09-06\n",
      "Generating data for 2020-09-12\n",
      "Data export tasks in Queue\n"
     ]
    }
   ],
   "source": [
    "today = datetime.today().strftime('%Y-%m-%d')\n",
    "\n",
    "for date in dates:\n",
    "    #print('Generating data for ' + date)\n",
    "    image = ee.ImageCollection('COPERNICUS/S1_GRD')\\\n",
    "        .filterBounds(poly)\\\n",
    "        .filterDate(ee.Date(date), ee.Date(today))\\\n",
    "        .filter(ee.Filter.listContains('transmitterReceiverPolarisation', 'VV'))\\\n",
    "        .filter(ee.Filter.eq('instrumentMode', 'IW'))\\\n",
    "        .select('VV')\\\n",
    "        .filter(ee.Filter.eq('resolution_meters', 10))\\\n",
    "        .filter(ee.Filter.eq('orbitProperties_pass', 'DESCENDING'))\\\n",
    "        .first()\\\n",
    "        .clip(poly)\n",
    "    \n",
    "    gdexport = ee.batch.Export.image.toDrive(\n",
    "        image,\n",
    "        description = 'Qro_' + date,\n",
    "        folder = 'EarthEngineImages',\n",
    "        maxPixels = 1540907088,\n",
    "        scale = 10,\n",
    "        region = poly\n",
    "    )    \n",
    "    gdexport.start()    \n",
    "    time.sleep(5)\n",
    "print('Data export tasks in Queue')"
   ]
  }
 ],
 "metadata": {
  "kernelspec": {
   "display_name": "Python 3",
   "language": "python",
   "name": "python3"
  },
  "language_info": {
   "codemirror_mode": {
    "name": "ipython",
    "version": 3
   },
   "file_extension": ".py",
   "mimetype": "text/x-python",
   "name": "python",
   "nbconvert_exporter": "python",
   "pygments_lexer": "ipython3",
   "version": "3.7.7"
  }
 },
 "nbformat": 4,
 "nbformat_minor": 4
}
