{
 "cells": [
  {
   "cell_type": "markdown",
   "metadata": {},
   "source": [
    "Descarga de imagenes de grandes zonas geograficas"
   ]
  },
  {
   "cell_type": "code",
   "execution_count": 10,
   "metadata": {},
   "outputs": [
    {
     "data": {
      "text/html": [
       "<style>.container { width:90% !important; }</style>"
      ],
      "text/plain": [
       "<IPython.core.display.HTML object>"
      ]
     },
     "metadata": {},
     "output_type": "display_data"
    }
   ],
   "source": [
    "from IPython.core.display import display, HTML\n",
    "display(HTML(\"<style>.container { width:90% !important; }</style>\"))\n",
    "from datetime import datetime\n",
    "from numpy import asarray\n",
    "from numpy import save\n",
    "from numpy import load\n",
    "import ee, time\n",
    "\n",
    "ee.Initialize()"
   ]
  },
  {
   "cell_type": "markdown",
   "metadata": {},
   "source": [
    "Seleccionamos fecha y zona geografica"
   ]
  },
  {
   "cell_type": "code",
   "execution_count": 11,
   "metadata": {},
   "outputs": [],
   "source": [
    "date = '2020-10-01'\n",
    "today = datetime.today().strftime('%Y-%m-%d')\n",
    "Admins = ee.FeatureCollection(\"FAO/GAUL/2015/level1\")\n",
    "region = Admins.filter(ee.Filter.eq('ADM1_NAME', 'Queretaro')).first().geometry()"
   ]
  },
  {
   "cell_type": "markdown",
   "metadata": {},
   "source": [
    "Seleccionamos la imagen que queremos descargar"
   ]
  },
  {
   "cell_type": "code",
   "execution_count": 13,
   "metadata": {},
   "outputs": [],
   "source": [
    "image = ee.ImageCollection('COPERNICUS/S1_GRD')\\\n",
    "    .filterBounds(region)\\\n",
    "    .filterDate(ee.Date(date), ee.Date(today))\\\n",
    "    .filter(ee.Filter.listContains('transmitterReceiverPolarisation', 'VV'))\\\n",
    "    .filter(ee.Filter.eq('instrumentMode', 'IW'))\\\n",
    "    .select('VV')\\\n",
    "    .filter(ee.Filter.eq('resolution_meters', 30))\\\n",
    "    .filter(ee.Filter.eq('orbitProperties_pass', 'DESCENDING'))\\\n",
    "    .mean()\\\n",
    "    .clip(region);"
   ]
  },
  {
   "cell_type": "markdown",
   "metadata": {},
   "source": [
    "Exportamos la imagen a Google Drive"
   ]
  },
  {
   "cell_type": "code",
   "execution_count": 9,
   "metadata": {},
   "outputs": [],
   "source": [
    "gdexport = ee.batch.Export.image.toDrive(\n",
    "    image,\n",
    "    description = 'Qro',\n",
    "    folder = 'EarthEngineImages',\n",
    "    maxPixels = 1540907088,\n",
    "    scale = 10,\n",
    "    region = reg\n",
    ")\n",
    "gdexport.start()"
   ]
  },
  {
   "cell_type": "markdown",
   "metadata": {},
   "source": [
    "Descargamos la imagen de google Drive usando un link publico"
   ]
  },
  {
   "cell_type": "code",
   "execution_count": 18,
   "metadata": {},
   "outputs": [
    {
     "name": "stderr",
     "output_type": "stream",
     "text": [
      "Downloading...\n",
      "From: https://drive.google.com/uc?id=1ZJlt4QBR7VHa-Kt9vn0NJl9EOP9ipWFl\n",
      "To: /data/DagobertoPulido/GEE/viewer/Qro_complete.tif\n",
      "1.22GB [01:52, 10.8MB/s]\n"
     ]
    },
    {
     "data": {
      "text/plain": [
       "'Qro_complete.tif'"
      ]
     },
     "execution_count": 18,
     "metadata": {},
     "output_type": "execute_result"
    }
   ],
   "source": [
    "import gdown\n",
    "\n",
    "url = 'https://drive.google.com/uc?id=1ZJlt4QBR7VHa-Kt9vn0NJl9EOP9ipWFl'\n",
    "output = 'Qro_complete.tif'\n",
    "gdown.download(url, output, quiet=False) "
   ]
  }
 ],
 "metadata": {
  "kernelspec": {
   "display_name": "Python 3",
   "language": "python",
   "name": "python3"
  },
  "language_info": {
   "codemirror_mode": {
    "name": "ipython",
    "version": 3
   },
   "file_extension": ".py",
   "mimetype": "text/x-python",
   "name": "python",
   "nbconvert_exporter": "python",
   "pygments_lexer": "ipython3",
   "version": "3.7.7"
  }
 },
 "nbformat": 4,
 "nbformat_minor": 4
}
